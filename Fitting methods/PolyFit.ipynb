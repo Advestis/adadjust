{
 "cells": [
  {
   "cell_type": "markdown",
   "id": "201ec8d9",
   "metadata": {},
   "source": [
    "# Polynomial Regression using Matplotlib and Scikit-Learn"
   ]
  },
  {
   "cell_type": "markdown",
   "id": "aa847e03",
   "metadata": {},
   "source": [
    "### Import of the necessary modules"
   ]
  },
  {
   "cell_type": "code",
   "execution_count": 1,
   "id": "0bd7ce4f",
   "metadata": {},
   "outputs": [],
   "source": [
    "import numpy\n",
    "import matplotlib.pyplot as plt\n",
    "from sklearn.metrics import r2_score"
   ]
  },
  {
   "cell_type": "markdown",
   "id": "3bca3427",
   "metadata": {},
   "source": [
    "### Creation of the sample parameters"
   ]
  },
  {
   "cell_type": "code",
   "execution_count": 2,
   "id": "1593d04d",
   "metadata": {},
   "outputs": [],
   "source": [
    "nsample = 300\n",
    "sig = 0.5\n",
    "x = numpy.linspace(0, 20, nsample)\n",
    "X = numpy.column_stack((x, numpy.sin(x), (x - 5) ** 2, numpy.ones(nsample)))\n",
    "beta = [0.5, 0.5, -0.02, 5.0]\n",
    "\n",
    "y_true = numpy.dot(X, beta)\n",
    "y = y_true + sig * numpy.random.normal(size=nsample)\n",
    "\n",
    "\n",
    "x = list(x)\n",
    "y = list(y)\n",
    "\n",
    "errorValues = None\n",
    "# errorValues = [20, 3, 12, 8, 13, 9, 5, 2, 8, 19]  # example of error bars on the samples (symmetrical)\n",
    "\n",
    "i = 0\n",
    "\n",
    "answer = \"\""
   ]
  },
  {
   "cell_type": "markdown",
   "id": "0a401891",
   "metadata": {},
   "source": [
    "### Creation of the fit automatically or with a defined degree"
   ]
  },
  {
   "cell_type": "code",
   "execution_count": 3,
   "id": "8129c553",
   "metadata": {},
   "outputs": [
    {
     "name": "stdout",
     "output_type": "stream",
     "text": [
      "Choisir le degré ou Automatique ? (c/a) c\n",
      "Degré : 9\n"
     ]
    }
   ],
   "source": [
    "while True :\n",
    "    answer = str(input(\"Choisir le degré ou Automatique ? (c/a) \"))\n",
    "    if answer == \"c\" or answer == \"a\" :\n",
    "        break\n",
    "\n",
    "\n",
    "b = True\n",
    "if answer == \"c\" :\n",
    "    while b :\n",
    "        try :\n",
    "            i = int(input(\"Degré : \"))\n",
    "            mymodel = numpy.poly1d(numpy.polyfit(x, y, i, w = errorValues))\n",
    "            b = False\n",
    "        except :\n",
    "            print(\"Degré invalide\")\n",
    "else :\n",
    "    mymodel = numpy.poly1d(numpy.polyfit(x, y, i))\n",
    "    while float(r2_score(y, mymodel(x))) < 0.9 :\n",
    "        i += 1\n",
    "        mymodel = numpy.poly1d(numpy.polyfit(x, y, i, w = errorValues))\n",
    "\n",
    "function = str(mymodel).split()\n",
    "function = [x[:5] for x in function if \"e-\" not in x]"
   ]
  },
  {
   "cell_type": "markdown",
   "id": "54c9afd4",
   "metadata": {},
   "source": [
    "### Formatting the polynomial equation to display it cleanly"
   ]
  },
  {
   "cell_type": "code",
   "execution_count": 4,
   "id": "b08050fd",
   "metadata": {},
   "outputs": [],
   "source": [
    "j = i\n",
    "\n",
    "while j >= 2 :\n",
    "    function.remove(str(j))\n",
    "    j -= 1\n",
    "\n",
    "function_str = \" \".join(function)\n",
    "\n",
    "function_str = function_str.replace(\"x\", \"$x$\")\n",
    "function_str = function_str.replace(\" - $x$\", \"\")\n",
    "function_str = function_str.replace(\" + $x$\", \"\")\n",
    "str_x = str_y = \"$x\"\n",
    "\n",
    "for k in range(i - 1) :\n",
    "    r = \"^{\" + str(k+2) + \"}\"\n",
    "    function_str = function_str.replace(str_x + \"$\", str_y + r + \"$\", i - k - 1)\n",
    "    str_x = str_y + r"
   ]
  },
  {
   "cell_type": "markdown",
   "id": "e63ec4e8",
   "metadata": {},
   "source": [
    "### Tracing the model function"
   ]
  },
  {
   "cell_type": "code",
   "execution_count": 5,
   "id": "039ef5a5",
   "metadata": {},
   "outputs": [
    {
     "data": {
      "image/png": "[encoded data removed]",
      "text/plain": [
       "<Figure size 432x288 with 1 Axes>"
      ]
     },
     "metadata": {
      "needs_background": "light"
     },
     "output_type": "display_data"
    }
   ],
   "source": [
    "myline = numpy.linspace(x[0], x[-1], 100)\n",
    "\n",
    "plt.scatter(x, y, label=\"data\", c='orange', s=6)\n",
    "plt.plot(myline, mymodel(myline), label=\"polynomial\", linewidth=2)\n",
    "plt.errorbar(x, y, yerr = errorValues, fmt = 'none', ecolor = 'orange', elinewidth = 1)\n",
    "\n",
    "\n",
    "title = \"polynomial function:    \" + function_str + \"\\naverage degree accuracy:  \" + (str(round(r2_score(y, mymodel(x)), 3) * 100))[:4] + \" %\"\n",
    "plt.title(title)\n",
    "plt.legend()\n",
    "plt.show()"
   ]
  }
 ],
 "metadata": {
  "kernelspec": {
   "display_name": "envfitting",
   "language": "python",
   "name": "envfitting"
  },
  "language_info": {
   "codemirror_mode": {
    "name": "ipython",
    "version": 3
   },
   "file_extension": ".py",
   "mimetype": "text/x-python",
   "name": "python",
   "nbconvert_exporter": "python",
   "pygments_lexer": "ipython3",
   "version": "3.9.7"
  }
 },
 "nbformat": 4,
 "nbformat_minor": 5
}
